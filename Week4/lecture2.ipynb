{
 "cells": [
  {
   "cell_type": "markdown",
   "metadata": {},
   "source": [
    "# Series"
   ]
  },
  {
   "cell_type": "code",
   "execution_count": 1,
   "metadata": {},
   "outputs": [
    {
     "name": "stdout",
     "output_type": "stream",
     "text": [
      "0    1\n",
      "1    2\n",
      "2    3\n",
      "3    4\n"
     ]
    }
   ],
   "source": [
    "import pandas as pd\n",
    "# Initialise series directly\n",
    "MySeries = pd.Series(data=[1, 2, 3, 4], dtype='int')\n",
    "# Display the series on the screen\n",
    "print(MySeries.to_string())"
   ]
  },
  {
   "cell_type": "code",
   "execution_count": 2,
   "metadata": {},
   "outputs": [
    {
     "name": "stdout",
     "output_type": "stream",
     "text": [
      "a    1\n",
      "b    2\n",
      "c    3\n",
      "d    4\n"
     ]
    }
   ],
   "source": [
    "# Initialise series directly\n",
    "MySeries = pd.Series(data=[1, 2, 3, 4], index=['a', 'b', 'c', 'd'], dtype='int')\n",
    "# Display the series on the screen\n",
    "print(MySeries.to_string())"
   ]
  },
  {
   "cell_type": "code",
   "execution_count": 3,
   "metadata": {},
   "outputs": [
    {
     "name": "stdout",
     "output_type": "stream",
     "text": [
      "0    10\n",
      "1    20\n",
      "2    30\n",
      "3    40\n"
     ]
    }
   ],
   "source": [
    "# Initialise a list\n",
    "L = [10, 20, 30, 40]\n",
    "# Initialise series using values from the list\n",
    "MySeries = pd.Series(data=L, dtype='int')\n",
    "# Display the series on the screen\n",
    "print(MySeries.to_string())"
   ]
  },
  {
   "cell_type": "code",
   "execution_count": 4,
   "metadata": {},
   "outputs": [
    {
     "name": "stdout",
     "output_type": "stream",
     "text": [
      "[ 5.2  5.3  7.6  9.9 13.3 16.5 18.7 18.5 15.7 12.   8.   5.5]\n"
     ]
    }
   ],
   "source": [
    "import numpy as np\n",
    "import pandas as pd\n",
    "import calendar\n",
    "MyArray = np.array([5.2, 5.3, 7.6, 9.9, 13.3, 16.5, 18.7, 18.5, 15.7, 12.0, 8.0, 5.5] , dtype='float')\n",
    "print(MyArray)"
   ]
  },
  {
   "cell_type": "code",
   "execution_count": 6,
   "metadata": {},
   "outputs": [
    {
     "name": "stdout",
     "output_type": "stream",
     "text": [
      "January       5.2\n",
      "February      5.3\n",
      "March         7.6\n",
      "April         9.9\n",
      "May          13.3\n",
      "June         16.5\n",
      "July         18.7\n",
      "August       18.5\n",
      "September    15.7\n",
      "October      12.0\n",
      "November      8.0\n",
      "December      5.5\n",
      "Name: Temperatures, dtype: float64\n"
     ]
    }
   ],
   "source": [
    "# Initialise an empty list\n",
    "Months = []\n",
    "# Add the names of the months to the list\n",
    "for i in range(1, 13):\n",
    "    Months.append(calendar.month_name[i])\n",
    "# Initialise the series\n",
    "MySeries = pd.Series(data=MyArray, name='Temperatures', index=Months)\n",
    "print(MySeries)"
   ]
  },
  {
   "cell_type": "code",
   "execution_count": 7,
   "metadata": {},
   "outputs": [
    {
     "name": "stdout",
     "output_type": "stream",
     "text": [
      "January       5.2\n",
      "February      5.3\n",
      "March         7.6\n",
      "April         9.9\n",
      "May          13.3\n",
      "June         16.5\n",
      "July         18.7\n",
      "August       18.5\n",
      "September    15.7\n",
      "October      12.0\n",
      "November      8.0\n",
      "December      5.5\n",
      "January      41.36\n",
      "February     41.54\n",
      "March        45.68\n",
      "April        49.82\n",
      "May          55.94\n",
      "June         61.70\n",
      "July         65.66\n",
      "August       65.30\n",
      "September    60.26\n",
      "October      53.60\n",
      "November     46.40\n",
      "December     41.90\n"
     ]
    },
    {
     "name": "stderr",
     "output_type": "stream",
     "text": [
      "/var/folders/g0/9gh4zg0s4_1f3kfgmq5dt3_c0000gn/T/ipykernel_18419/1455762326.py:5: FutureWarning: Series.__getitem__ treating keys as positions is deprecated. In a future version, integer keys will always be treated as labels (consistent with DataFrame behavior). To access a value by position, use `ser.iloc[pos]`\n",
      "  MySeries[i] = float(MySeries[i]*(9/5)+32)\n",
      "/var/folders/g0/9gh4zg0s4_1f3kfgmq5dt3_c0000gn/T/ipykernel_18419/1455762326.py:5: FutureWarning: Series.__setitem__ treating keys as positions is deprecated. In a future version, integer keys will always be treated as labels (consistent with DataFrame behavior). To set a value by position, use `ser.iloc[pos] = value`\n",
      "  MySeries[i] = float(MySeries[i]*(9/5)+32)\n"
     ]
    }
   ],
   "source": [
    "# Print the series on the screen\n",
    "print(MySeries.to_string())\n",
    "# Convert from Celsius to Fahrenheit\n",
    "for i in range(0, 12):\n",
    "    MySeries[i] = float(MySeries[i]*(9/5)+32)\n",
    "# Print the updated series on the screen\n",
    "print(MySeries.to_string())"
   ]
  },
  {
   "cell_type": "code",
   "execution_count": null,
   "metadata": {},
   "outputs": [],
   "source": []
  }
 ],
 "metadata": {
  "kernelspec": {
   "display_name": ".venv",
   "language": "python",
   "name": "python3"
  },
  "language_info": {
   "codemirror_mode": {
    "name": "ipython",
    "version": 3
   },
   "file_extension": ".py",
   "mimetype": "text/x-python",
   "name": "python",
   "nbconvert_exporter": "python",
   "pygments_lexer": "ipython3",
   "version": "3.11.7"
  }
 },
 "nbformat": 4,
 "nbformat_minor": 2
}
