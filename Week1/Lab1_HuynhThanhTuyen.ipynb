{
 "cells": [
  {
   "cell_type": "markdown",
   "metadata": {},
   "source": [
    "Week 1. Introduction Information And Data Visualization"
   ]
  },
  {
   "cell_type": "markdown",
   "metadata": {
    "notebookRunGroups": {
     "groupValue": "2"
    }
   },
   "source": [
    "Task 1"
   ]
  },
  {
   "cell_type": "code",
   "execution_count": 17,
   "metadata": {},
   "outputs": [
    {
     "name": "stdout",
     "output_type": "stream",
     "text": [
      "Hello World\n",
      "10 + 5 = 15\n"
     ]
    }
   ],
   "source": [
    "print('Hello World')\n",
    "a = 10\n",
    "b = 5\n",
    "print(a, '+', b, '=', a+b)"
   ]
  },
  {
   "cell_type": "markdown",
   "metadata": {},
   "source": [
    "Task 2"
   ]
  },
  {
   "cell_type": "code",
   "execution_count": 18,
   "metadata": {},
   "outputs": [
    {
     "name": "stdout",
     "output_type": "stream",
     "text": [
      "Sum of 5 and 9 is 14\n",
      "Subtract of 5 and 9 is -4\n",
      "Multiplication of 5 and 9 is 45\n",
      "Division of 5 and 9 is 0.5555555555555556\n"
     ]
    }
   ],
   "source": [
    "def add(a, b):\n",
    "    return a + b\n",
    "\n",
    "\n",
    "def subtract(a, b):\n",
    "    return a - b\n",
    "\n",
    "\n",
    "def multiply(a, b):\n",
    "    return a * b\n",
    "\n",
    "\n",
    "def divide(a, b):\n",
    "    try:\n",
    "        result = a / b\n",
    "        return result\n",
    "    except ZeroDivisionError:\n",
    "        print(\"Division by zero\")\n",
    "\n",
    "\n",
    "a = 5\n",
    "b = 9\n",
    "\n",
    "sum = add(a, b)\n",
    "print(f\"Sum of {a} and {b} is {sum}\")\n",
    "\n",
    "sub = subtract(a, b)\n",
    "print(f\"Subtract of {a} and {b} is {sub}\")\n",
    "\n",
    "product = multiply(a, b)\n",
    "print(f\"Multiplication of {a} and {b} is {product}\")\n",
    "\n",
    "division = divide(a, b)\n",
    "print(f\"Division of {a} and {b} is {division}\")\n"
   ]
  },
  {
   "cell_type": "markdown",
   "metadata": {},
   "source": [
    "Task 3"
   ]
  },
  {
   "cell_type": "code",
   "execution_count": 7,
   "metadata": {},
   "outputs": [
    {
     "name": "stdout",
     "output_type": "stream",
     "text": [
      "The result of equation 1x^2 -2x + 1 is 1.0\n",
      "The result of equation 1x^2 -7x + 8 is (5.561552812808831, 1.4384471871911697)\n",
      "The result of equation 0x^2 -7x + 8 is 1.1428571428571428\n"
     ]
    }
   ],
   "source": [
    "import math\n",
    "import cmath\n",
    "\n",
    "\n",
    "class Quadratic:\n",
    "    def __init__(self, a, b, c) -> None:\n",
    "        self.a = a\n",
    "        self.b = b\n",
    "        self.c = c\n",
    "\n",
    "    @property\n",
    "    def discriminant(self):\n",
    "        return ((self.b)**2) - (4 * self.a * self.c)\n",
    "\n",
    "    def root1(self):\n",
    "        return (-self.b + math.sqrt(self.discriminant)) / (2 * self.a)\n",
    "\n",
    "    def root2(self):\n",
    "        return (-self.b - math.sqrt(self.discriminant)) / (2 * self.a)\n",
    "\n",
    "    def solve(self):\n",
    "        if self.a == 0:\n",
    "            return Linear(self.b, self.c).solve()\n",
    "        \n",
    "        if self.discriminant > 0:\n",
    "            root1, root2 = self.root1(), self.root2()\n",
    "            return root1, root2\n",
    "        elif self.discriminant == 0:\n",
    "            return (-self.b / (2 * self.a))\n",
    "        else:\n",
    "            return\n",
    "        \n",
    "    def __str__(self) -> str:\n",
    "        return f\"{self.a}x^2 {'+ ' if self.b > 0 else ''}{self.b}x + {self.c}\"\n",
    "\n",
    "\n",
    "class Linear(Quadratic):\n",
    "    def __init__(self, b, c) -> None:\n",
    "        super().__init__(0, b, c)\n",
    "    \n",
    "    def solve(self):\n",
    "        if self.b == 0:\n",
    "            if self.c == 0:\n",
    "                print(\"Infinite solution\")\n",
    "                return\n",
    "            else:\n",
    "                print(\"No solution\")\n",
    "                return\n",
    "        return (-self.c) / self.b\n",
    "\n",
    "\n",
    "no_solution_quadratic = Quadratic(1, -2, 1)\n",
    "\n",
    "result = no_solution_quadratic.solve()\n",
    "\n",
    "if not result:\n",
    "    print(f\"The equation of {no_solution_quadratic} has no solution\")\n",
    "else:\n",
    "    print(f\"The result of equation {no_solution_quadratic} is {result}\")\n",
    "\n",
    "quadratic1 = Quadratic(1, -7, 8)\n",
    "result = quadratic1.solve()\n",
    "\n",
    "if not result:\n",
    "    print(\"The equation of has no solution\")\n",
    "else:\n",
    "    print(f\"The result of equation {quadratic1} is {result}\")\n",
    "\n",
    "quadratic2 = Quadratic(0, -7, 8)\n",
    "result = quadratic2.solve()\n",
    "\n",
    "if not result:\n",
    "    print(\"The equation has no solution\")\n",
    "else:\n",
    "    print(f\"The result of equation {quadratic2} is {result}\")\n"
   ]
  },
  {
   "cell_type": "code",
   "execution_count": null,
   "metadata": {},
   "outputs": [],
   "source": []
  }
 ],
 "metadata": {
  "kernelspec": {
   "display_name": "Python 3",
   "language": "python",
   "name": "python3"
  },
  "language_info": {
   "codemirror_mode": {
    "name": "ipython",
    "version": 3
   },
   "file_extension": ".py",
   "mimetype": "text/x-python",
   "name": "python",
   "nbconvert_exporter": "python",
   "pygments_lexer": "ipython3",
   "version": "3.11.7"
  }
 },
 "nbformat": 4,
 "nbformat_minor": 2
}
