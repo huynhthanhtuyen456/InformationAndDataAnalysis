{
 "cells": [
  {
   "cell_type": "code",
   "execution_count": 1,
   "metadata": {},
   "outputs": [
    {
     "name": "stdout",
     "output_type": "stream",
     "text": [
      "Alo ha\n"
     ]
    }
   ],
   "source": [
    "f = open('mytext.txt', 'r')\n",
    "\n",
    "s = f.readline()\n",
    "f.close()\n",
    "print(s)"
   ]
  },
  {
   "cell_type": "code",
   "execution_count": 2,
   "metadata": {},
   "outputs": [
    {
     "ename": "FileNotFoundError",
     "evalue": "[Errno 2] No such file or directory: 'NoSuchFile'",
     "output_type": "error",
     "traceback": [
      "\u001b[0;31m---------------------------------------------------------------------------\u001b[0m",
      "\u001b[0;31mFileNotFoundError\u001b[0m                         Traceback (most recent call last)",
      "Cell \u001b[0;32mIn[2], line 1\u001b[0m\n\u001b[0;32m----> 1\u001b[0m f \u001b[38;5;241m=\u001b[39m \u001b[38;5;28;43mopen\u001b[39;49m\u001b[43m(\u001b[49m\u001b[38;5;124;43m'\u001b[39;49m\u001b[38;5;124;43mNoSuchFile\u001b[39;49m\u001b[38;5;124;43m'\u001b[39;49m\u001b[43m,\u001b[49m\u001b[43m \u001b[49m\u001b[38;5;124;43m'\u001b[39;49m\u001b[38;5;124;43mr\u001b[39;49m\u001b[38;5;124;43m'\u001b[39;49m\u001b[43m)\u001b[49m\n\u001b[1;32m      2\u001b[0m s \u001b[38;5;241m=\u001b[39m f\u001b[38;5;241m.\u001b[39mreadline()\n\u001b[1;32m      3\u001b[0m f\u001b[38;5;241m.\u001b[39mclose()\n",
      "File \u001b[0;32m~/Documents/Study/InformationAndDataAnalysis/Lab/.venv/lib/python3.11/site-packages/IPython/core/interactiveshell.py:324\u001b[0m, in \u001b[0;36m_modified_open\u001b[0;34m(file, *args, **kwargs)\u001b[0m\n\u001b[1;32m    317\u001b[0m \u001b[38;5;28;01mif\u001b[39;00m file \u001b[38;5;129;01min\u001b[39;00m {\u001b[38;5;241m0\u001b[39m, \u001b[38;5;241m1\u001b[39m, \u001b[38;5;241m2\u001b[39m}:\n\u001b[1;32m    318\u001b[0m     \u001b[38;5;28;01mraise\u001b[39;00m \u001b[38;5;167;01mValueError\u001b[39;00m(\n\u001b[1;32m    319\u001b[0m         \u001b[38;5;124mf\u001b[39m\u001b[38;5;124m\"\u001b[39m\u001b[38;5;124mIPython won\u001b[39m\u001b[38;5;124m'\u001b[39m\u001b[38;5;124mt let you open fd=\u001b[39m\u001b[38;5;132;01m{\u001b[39;00mfile\u001b[38;5;132;01m}\u001b[39;00m\u001b[38;5;124m by default \u001b[39m\u001b[38;5;124m\"\u001b[39m\n\u001b[1;32m    320\u001b[0m         \u001b[38;5;124m\"\u001b[39m\u001b[38;5;124mas it is likely to crash IPython. If you know what you are doing, \u001b[39m\u001b[38;5;124m\"\u001b[39m\n\u001b[1;32m    321\u001b[0m         \u001b[38;5;124m\"\u001b[39m\u001b[38;5;124myou can use builtins\u001b[39m\u001b[38;5;124m'\u001b[39m\u001b[38;5;124m open.\u001b[39m\u001b[38;5;124m\"\u001b[39m\n\u001b[1;32m    322\u001b[0m     )\n\u001b[0;32m--> 324\u001b[0m \u001b[38;5;28;01mreturn\u001b[39;00m \u001b[43mio_open\u001b[49m\u001b[43m(\u001b[49m\u001b[43mfile\u001b[49m\u001b[43m,\u001b[49m\u001b[43m \u001b[49m\u001b[38;5;241;43m*\u001b[39;49m\u001b[43margs\u001b[49m\u001b[43m,\u001b[49m\u001b[43m \u001b[49m\u001b[38;5;241;43m*\u001b[39;49m\u001b[38;5;241;43m*\u001b[39;49m\u001b[43mkwargs\u001b[49m\u001b[43m)\u001b[49m\n",
      "\u001b[0;31mFileNotFoundError\u001b[0m: [Errno 2] No such file or directory: 'NoSuchFile'"
     ]
    }
   ],
   "source": [
    "f = open('NoSuchFile', 'r')\n",
    "s = f.readline()\n",
    "f.close()"
   ]
  },
  {
   "cell_type": "code",
   "execution_count": 3,
   "metadata": {},
   "outputs": [
    {
     "name": "stdout",
     "output_type": "stream",
     "text": [
      "Reading complete\n"
     ]
    }
   ],
   "source": [
    "try:\n",
    "    f = open('mytext.txt', 'r')\n",
    "    s = f.readline()\n",
    "    f.close()\n",
    "except:\n",
    "    print('No such file')\n",
    "finally:\n",
    "    print('Reading complete')"
   ]
  },
  {
   "cell_type": "code",
   "execution_count": 4,
   "metadata": {},
   "outputs": [
    {
     "name": "stdout",
     "output_type": "stream",
     "text": [
      "Program complete\n"
     ]
    }
   ],
   "source": [
    "try:\n",
    "    f = open('MyTextFile', 'w')\n",
    "    f.write('Hello World')\n",
    "    f.close()\n",
    "except:\n",
    "    print('Cannot create a file')\n",
    "finally:\n",
    "    print('Program complete')"
   ]
  },
  {
   "cell_type": "code",
   "execution_count": 5,
   "metadata": {},
   "outputs": [],
   "source": [
    "f = open('MyTextFile', 'w')\n",
    "f.write('Hello World')\n",
    "f.close()"
   ]
  },
  {
   "cell_type": "code",
   "execution_count": 7,
   "metadata": {},
   "outputs": [
    {
     "name": "stdout",
     "output_type": "stream",
     "text": [
      "55 25 59 7 65 49 96 66 77 32 74 46 96 16 17 25 45 24 31 19 21 73 17 95 24 48 0 88 73 97 41 61 26 40 35 99 37 16 33 93 19 76 76 45 1 89 99 2 92 56 21 13 17 42 65 32 91 20 79 67 55 52 86 86 40 41 57 62 69 43 33 73 15 46 74 26 1 94 83 33 63 24 58 43 52 63 51 36 18 68 7 79 64 67 20 24 35 36 50 79 \n"
     ]
    }
   ],
   "source": [
    "import numpy as np\n",
    "import random as rnd\n",
    "MyArray = np.empty(shape=(10, 10), dtype=int)\n",
    "for i in range(0, 10):\n",
    "    for j in range(0, 10):\n",
    "        MyArray[i, j] = rnd.randint(0, 99)\n",
    "        print(MyArray[i, j], end=' ')\n",
    "print('')\n",
    "np.savetxt('MyArray.csv', MyArray, fmt='%d', delimiter=',')"
   ]
  },
  {
   "cell_type": "code",
   "execution_count": 8,
   "metadata": {},
   "outputs": [
    {
     "name": "stdout",
     "output_type": "stream",
     "text": [
      "(10, 10)\n"
     ]
    }
   ],
   "source": [
    "MyNewArray = np.genfromtxt('MyArray.csv', delimiter=',', dtype='unicode')\n",
    "\n",
    "print(MyNewArray.shape)"
   ]
  },
  {
   "cell_type": "code",
   "execution_count": 9,
   "metadata": {},
   "outputs": [],
   "source": [
    "import pandas as pd\n",
    "MyDataFrame = pd.DataFrame(index=[1, 2], columns=['City', 'Population',\n",
    "'Country'])\n",
    "MyDataFrame.loc[1, 'City'] = 'New York'\n",
    "MyDataFrame.loc[1, 'Population'] = 8100000\n",
    "MyDataFrame.loc[1, 'Country'] = 'USA'\n",
    "MyDataFrame.loc[2, 'City'] = 'Seoul'\n",
    "MyDataFrame.loc[2, 'Population'] = 9700000\n",
    "MyDataFrame.loc[2, 'Country'] = 'South Korea'\n",
    "\n",
    "MyDataFrame.to_csv('MyNewFile.csv')"
   ]
  },
  {
   "cell_type": "code",
   "execution_count": 10,
   "metadata": {},
   "outputs": [
    {
     "name": "stdout",
     "output_type": "stream",
     "text": [
      "       City  Population      Country\n",
      "1  New York     8100000          USA\n",
      "2     Seoul     9700000  South Korea\n"
     ]
    }
   ],
   "source": [
    "import pandas as pd\n",
    "MyNewDataFrame = pd.read_csv('MyNewFile.csv', index_col=0)\n",
    "print(MyNewDataFrame.to_string())"
   ]
  },
  {
   "cell_type": "code",
   "execution_count": null,
   "metadata": {},
   "outputs": [],
   "source": []
  }
 ],
 "metadata": {
  "kernelspec": {
   "display_name": ".venv",
   "language": "python",
   "name": "python3"
  },
  "language_info": {
   "codemirror_mode": {
    "name": "ipython",
    "version": 3
   },
   "file_extension": ".py",
   "mimetype": "text/x-python",
   "name": "python",
   "nbconvert_exporter": "python",
   "pygments_lexer": "ipython3",
   "version": "3.11.7"
  }
 },
 "nbformat": 4,
 "nbformat_minor": 2
}
