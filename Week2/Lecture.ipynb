{
 "cells": [
  {
   "cell_type": "code",
   "execution_count": 1,
   "metadata": {},
   "outputs": [],
   "source": [
    "import numpy as np\n",
    "import networkx as nx\n",
    "import matplotlib.pyplot as plt"
   ]
  },
  {
   "cell_type": "code",
   "execution_count": 46,
   "metadata": {},
   "outputs": [],
   "source": [
    "def check_type(number):\n",
    "    print(f\"The type of {number} is {type(number)}\")"
   ]
  },
  {
   "cell_type": "code",
   "execution_count": 47,
   "metadata": {},
   "outputs": [
    {
     "name": "stdout",
     "output_type": "stream",
     "text": [
      "The type of 5 is <class 'int'>\n",
      "The type of 11111 is <class 'int'>\n",
      "The type of 5.32 is <class 'float'>\n",
      "The type of 3.3333333333333335 is <class 'float'>\n",
      "The type of True is <class 'bool'>\n",
      "The type of False is <class 'bool'>\n",
      "The type of ABC is <class 'str'>\n",
      "The type of nan is <class 'float'>\n"
     ]
    },
    {
     "data": {
      "text/plain": [
       "12"
      ]
     },
     "execution_count": 47,
     "metadata": {},
     "output_type": "execute_result"
    }
   ],
   "source": [
    "check_type(5)\n",
    "check_type(11111)\n",
    "check_type(5.32)\n",
    "check_type(10/3)\n",
    "check_type(True)\n",
    "check_type(False)\n",
    "check_type(\"ABC\")\n",
    "check_type(np.nan)\n",
    "\n",
    "a = np.random.randint(1, 100)\n",
    "a"
   ]
  },
  {
   "cell_type": "code",
   "execution_count": 48,
   "metadata": {},
   "outputs": [
    {
     "name": "stdout",
     "output_type": "stream",
     "text": [
      "The result of 1 + 2 is 3\n",
      "The result of 1 - 2 is -1\n",
      "The result of 1 * 2 is 2\n",
      "The result of 1 / 2 is 0.5\n",
      "The result of 1 / 0 is Zero division error!\n"
     ]
    }
   ],
   "source": [
    "class MathOperator:\n",
    "    Add = \"+\"\n",
    "    Sub = \"-\"\n",
    "    Multiply = \"*\"\n",
    "    Divide = \"/\"\n",
    "\n",
    "\n",
    "def calculation(num1, num2, operator):\n",
    "    result = None\n",
    "    if operator == \"+\":\n",
    "        result = num1 + num2\n",
    "    elif operator == \"-\":\n",
    "        result = num1 - num2\n",
    "    elif operator == \"*\":\n",
    "        result = num1 * num2\n",
    "    elif operator == \"/\":\n",
    "        try:\n",
    "            result = num1 / num2\n",
    "        except ZeroDivisionError:\n",
    "            result = \"Zero division error!\"\n",
    "    else:\n",
    "        result = \"Zero division error!\"\n",
    "    \n",
    "    return f\"The result of {num1} {operator} {num2} is {result}\"\n",
    "\n",
    "num1 = input(\"Type num1: \")\n",
    "num2 = input(\"Type num2: \")\n",
    "operator = input(\"Type operator (+, -, *, /): \")\n",
    "print(calculation(1, 2, MathOperator.Add))\n",
    "print(calculation(1, 2, MathOperator.Sub))\n",
    "print(calculation(1, 2, MathOperator.Multiply))\n",
    "print(calculation(1, 2, MathOperator.Divide))\n",
    "print(calculation(1, 0, MathOperator.Divide))"
   ]
  },
  {
   "cell_type": "code",
   "execution_count": 49,
   "metadata": {},
   "outputs": [
    {
     "name": "stdout",
     "output_type": "stream",
     "text": [
      "0\n",
      "1\n",
      "2\n",
      "0 banana\n",
      "1 apple\n",
      "2 grape\n"
     ]
    }
   ],
   "source": [
    "lst1 = [1, 2, 3]\n",
    "lst2 = [\"banana\", \"apple\", \"grape\"]\n",
    "\n",
    "for i in range(len(lst1)):\n",
    "    print(i)\n",
    "\n",
    "\n",
    "for idx, val in enumerate(lst2):\n",
    "    print(idx, val)"
   ]
  },
  {
   "cell_type": "code",
   "execution_count": 50,
   "metadata": {},
   "outputs": [],
   "source": [
    "ls1 = [1, 2, 3]\n",
    "ls2 = [-1, 0 , 4]"
   ]
  },
  {
   "cell_type": "code",
   "execution_count": 51,
   "metadata": {},
   "outputs": [
    {
     "name": "stdout",
     "output_type": "stream",
     "text": [
      "result=[0, 2, 7]\n"
     ]
    }
   ],
   "source": [
    "def add_two_vector(ls1, ls2):\n",
    "    if len(ls1) == len(ls2):\n",
    "        result = []\n",
    "        for idx in range(len(ls1)):\n",
    "            result.append(ls1[idx] + ls2[idx])\n",
    "        return result\n",
    "    else:\n",
    "        print(f\"The length of list 1 is {len(ls1)} different to {len(ls2)} - the length of list 2 so we cannot add.\")\n",
    "\n",
    "\n",
    "result = add_two_vector(ls1, ls2)\n",
    "print(f\"{result=}\")"
   ]
  },
  {
   "cell_type": "code",
   "execution_count": 52,
   "metadata": {},
   "outputs": [
    {
     "data": {
      "text/plain": [
       "[0, 1, 4, 9, 16, 25]"
      ]
     },
     "execution_count": 52,
     "metadata": {},
     "output_type": "execute_result"
    }
   ],
   "source": [
    "ls3 = [0, 1, 2, 3, 4, 5]\n",
    "# result = [0, 1, 4, 9, 16, 25]\n",
    "result = [i*i for i in ls3]\n",
    "result"
   ]
  },
  {
   "cell_type": "code",
   "execution_count": 53,
   "metadata": {},
   "outputs": [
    {
     "data": {
      "text/plain": [
       "[0, 2, 7]"
      ]
     },
     "execution_count": 53,
     "metadata": {},
     "output_type": "execute_result"
    }
   ],
   "source": [
    "result = [ls1[i] + ls2[i] for i in range(len(ls1))]\n",
    "result"
   ]
  },
  {
   "cell_type": "code",
   "execution_count": 54,
   "metadata": {},
   "outputs": [
    {
     "data": {
      "text/plain": [
       "[4, 8, 12, 16]"
      ]
     },
     "execution_count": 54,
     "metadata": {},
     "output_type": "execute_result"
    }
   ],
   "source": [
    "ls4 = [1, 2, 3, 4, 5, 6, 7, 8]\n",
    "# result = [4, 8, 12, 16]\n",
    "result = []\n",
    "for item in ls4:\n",
    "    if item % 2 == 0:\n",
    "        result.append(item * 2)\n",
    "result"
   ]
  },
  {
   "cell_type": "code",
   "execution_count": 55,
   "metadata": {},
   "outputs": [
    {
     "data": {
      "text/plain": [
       "[4, 8, 12, 16]"
      ]
     },
     "execution_count": 55,
     "metadata": {},
     "output_type": "execute_result"
    }
   ],
   "source": [
    "result = [item * 2 for item in ls4 if item % 2 == 0]\n",
    "result"
   ]
  },
  {
   "cell_type": "code",
   "execution_count": 56,
   "metadata": {},
   "outputs": [
    {
     "data": {
      "text/plain": [
       "array([5, 7, 9])"
      ]
     },
     "execution_count": 56,
     "metadata": {},
     "output_type": "execute_result"
    }
   ],
   "source": [
    "arr1 = np.array([1, 2, 3])\n",
    "arr2 = np.array([4, 5, 6])\n",
    "arr1 + arr2"
   ]
  },
  {
   "cell_type": "code",
   "execution_count": 57,
   "metadata": {},
   "outputs": [],
   "source": [
    "mydict = {\n",
    "    \"student\": \"Crystal\",\n",
    "    \"class\": \"COS1103\",\n",
    "    \"grade\": 8.5,\n",
    "    \"check_attendance\": True\n",
    "}"
   ]
  },
  {
   "cell_type": "code",
   "execution_count": 58,
   "metadata": {},
   "outputs": [
    {
     "name": "stdout",
     "output_type": "stream",
     "text": [
      "('student', 'Crystal')\n",
      "('class', 'COS1103')\n",
      "('grade', 8.5)\n",
      "('check_attendance', True)\n"
     ]
    }
   ],
   "source": [
    "for value in mydict.items():\n",
    "    print(value)"
   ]
  },
  {
   "cell_type": "markdown",
   "metadata": {},
   "source": [
    "# Graph Data with NetworkX and Visualization with Mathplotlib"
   ]
  },
  {
   "cell_type": "code",
   "execution_count": 2,
   "metadata": {},
   "outputs": [],
   "source": [
    "import networkx as nx\n",
    "import matplotlib.pyplot as plt"
   ]
  },
  {
   "cell_type": "code",
   "execution_count": 5,
   "metadata": {},
   "outputs": [],
   "source": [
    "# Create an empty graph object\n",
    "G = nx.Graph()\n",
    "\n",
    "# From this point we can start adding nodes and connecting them with edges\n",
    "G.add_node('A')\n",
    "G.add_node('B')\n",
    "G.add_node('C')\n",
    "G.add_edge('A', 'B', weight=5)\n",
    "G.add_edge('B', 'C', weight=10)\n",
    "G.add_edge('C', 'A', weight=15)"
   ]
  },
  {
   "cell_type": "code",
   "execution_count": 6,
   "metadata": {},
   "outputs": [
    {
     "data": {
      "image/png": "[encoded data removed]",
      "text/plain": [
       "<Figure size 640x480 with 1 Axes>"
      ]
     },
     "metadata": {},
     "output_type": "display_data"
    }
   ],
   "source": [
    "# Draw the graph and show the plot\n",
    "nx.draw_networkx(G)\n",
    "plt.show()"
   ]
  },
  {
   "cell_type": "code",
   "execution_count": 14,
   "metadata": {},
   "outputs": [
    {
     "data": {
      "image/png": "[encoded data removed]",
      "text/plain": [
       "<Figure size 640x480 with 1 Axes>"
      ]
     },
     "metadata": {},
     "output_type": "display_data"
    }
   ],
   "source": [
    "weights = nx.get_edge_attributes(G, \"weight\")\n",
    "pos = nx.spring_layout(G)\n",
    "\n",
    "nx.draw_networkx(G, pos=pos)\n",
    "nx.draw_networkx_edge_labels(G, pos, edge_labels=weights)\n",
    "\n",
    "path = nx.shortest_path(G, source=\"A\", target=\"C\")\n",
    "path_edges = list(zip(path,path[1:]))\n",
    "nx.draw_networkx_nodes(G,pos,nodelist=path,node_color='r')\n",
    "nx.draw_networkx_edges(G,pos,edgelist=path_edges,edge_color='r',width=10)\n",
    "plt.axis('equal')\n",
    "plt.show()"
   ]
  }
 ],
 "metadata": {
  "kernelspec": {
   "display_name": ".venv",
   "language": "python",
   "name": "python3"
  },
  "language_info": {
   "codemirror_mode": {
    "name": "ipython",
    "version": 3
   },
   "file_extension": ".py",
   "mimetype": "text/x-python",
   "name": "python",
   "nbconvert_exporter": "python",
   "pygments_lexer": "ipython3",
   "version": "3.11.7"
  }
 },
 "nbformat": 4,
 "nbformat_minor": 2
}
